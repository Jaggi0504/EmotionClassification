{
 "cells": [
  {
   "cell_type": "markdown",
   "metadata": {},
   "source": [
    "# 3104 Assignment 1\n",
    "### [30 Marks, 20%]"
   ]
  },
  {
   "cell_type": "markdown",
   "metadata": {},
   "source": [
    "## Import libraries"
   ]
  },
  {
   "cell_type": "code",
   "execution_count": 4,
   "metadata": {
    "execution": {
     "iopub.execute_input": "2023-10-20T21:58:32.904077Z",
     "iopub.status.busy": "2023-10-20T21:58:32.903713Z",
     "iopub.status.idle": "2023-10-20T21:58:32.908528Z",
     "shell.execute_reply": "2023-10-20T21:58:32.907486Z",
     "shell.execute_reply.started": "2023-10-20T21:58:32.904047Z"
    }
   },
   "outputs": [],
   "source": [
    "import numpy as np\n",
    "import matplotlib.pyplot as plt"
   ]
  },
  {
   "cell_type": "markdown",
   "metadata": {},
   "source": [
    "## Load dataset"
   ]
  },
  {
   "cell_type": "code",
   "execution_count": 5,
   "metadata": {
    "execution": {
     "iopub.execute_input": "2023-10-20T20:19:08.726862Z",
     "iopub.status.busy": "2023-10-20T20:19:08.726500Z",
     "iopub.status.idle": "2023-10-20T20:19:16.165263Z",
     "shell.execute_reply": "2023-10-20T20:19:16.164275Z",
     "shell.execute_reply.started": "2023-10-20T20:19:08.726832Z"
    }
   },
   "outputs": [
    {
     "data": {
      "text/plain": [
       "array([[ 70.,  80.,  82., ...,   0.,   0.,   0.],\n",
       "       [151., 150., 147., ...,   0.,   0.,   0.],\n",
       "       [231., 212., 156., ...,   0.,   0.,   0.],\n",
       "       ...,\n",
       "       [ 74.,  81.,  87., ...,   1.,   0.,   0.],\n",
       "       [222., 227., 203., ...,   0.,   0.,   0.],\n",
       "       [195., 199., 205., ...,   1.,   0.,   0.]])"
      ]
     },
     "execution_count": 5,
     "metadata": {},
     "output_type": "execute_result"
    }
   ],
   "source": [
    "trainingset = np.loadtxt('./training.csv', delimiter=',')\n",
    "testingset = np.loadtxt('./test.csv', delimiter=',')\n",
    "\n",
    "trainingset"
   ]
  },
  {
   "cell_type": "markdown",
   "metadata": {},
   "source": [
    "## Split data"
   ]
  },
  {
   "cell_type": "code",
   "execution_count": 6,
   "metadata": {
    "execution": {
     "iopub.execute_input": "2023-10-20T20:19:16.167250Z",
     "iopub.status.busy": "2023-10-20T20:19:16.166949Z",
     "iopub.status.idle": "2023-10-20T20:19:16.175609Z",
     "shell.execute_reply": "2023-10-20T20:19:16.174715Z",
     "shell.execute_reply.started": "2023-10-20T20:19:16.167225Z"
    }
   },
   "outputs": [],
   "source": [
    "n_inputs = 2304 # images are 48 x 48\n",
    "n_classes = 7 # 7 classes - as defined below\n",
    "img_dim = 48 # each input image dimension, width and height are both 48\n",
    "\n",
    "x_training = trainingset[:, 0:n_inputs] # Extract the first 2304 elements - the image\n",
    "y_training = trainingset[:, n_inputs:n_inputs + n_classes] # Extract the last 7 elements - a one hot category encoding\n",
    "\n",
    "x_testing = testingset[:, 0:n_inputs] # Extract the first 2304 elements - the image\n",
    "y_testing = testingset[:, n_inputs:n_inputs + n_classes] # Extract the last 7 elements - a one hot category encoding\n",
    "\n",
    "x_training = x_training.reshape(x_training.shape[0], 48, 48) # Make samples image shaped\n",
    "x_testing = x_testing.reshape(x_testing.shape[0], 48, 48) # Make samples image shaped"
   ]
  },
  {
   "cell_type": "code",
   "execution_count": 7,
   "metadata": {
    "execution": {
     "iopub.execute_input": "2023-10-20T20:19:16.177121Z",
     "iopub.status.busy": "2023-10-20T20:19:16.176778Z",
     "iopub.status.idle": "2023-10-20T20:19:16.188012Z",
     "shell.execute_reply": "2023-10-20T20:19:16.187213Z",
     "shell.execute_reply.started": "2023-10-20T20:19:16.177087Z"
    }
   },
   "outputs": [],
   "source": [
    "def get_emotion(whichemotion):\n",
    "    if whichemotion.shape[0] == 1:\n",
    "        indx = whichemotion[0]\n",
    "    else:\n",
    "        indx = np.argmax(whichemotion)\n",
    "    if indx == 0:\n",
    "        return 'angry'\n",
    "    elif indx == 1:\n",
    "        return 'disgust'\n",
    "    elif indx == 2:\n",
    "        return 'fear'\n",
    "    elif indx == 3:\n",
    "        return 'happy'\n",
    "    elif indx == 4:\n",
    "        return 'sad'\n",
    "    elif indx == 5:\n",
    "        return 'surprise'\n",
    "    elif indx == 6:\n",
    "        return 'neutral'"
   ]
  },
  {
   "cell_type": "code",
   "execution_count": 8,
   "metadata": {
    "execution": {
     "iopub.execute_input": "2023-10-20T21:59:04.471125Z",
     "iopub.status.busy": "2023-10-20T21:59:04.470705Z",
     "iopub.status.idle": "2023-10-20T21:59:04.698642Z",
     "shell.execute_reply": "2023-10-20T21:59:04.697682Z",
     "shell.execute_reply.started": "2023-10-20T21:59:04.471095Z"
    }
   },
   "outputs": [
    {
     "name": "stdout",
     "output_type": "stream",
     "text": [
      "(28709, 48, 48)\n",
      "(28709, 7)\n",
      "(3589, 48, 48)\n",
      "(3589, 7)\n"
     ]
    },
    {
     "data": {
      "image/png": "[encoded data removed]",
      "text/plain": [
       "<Figure size 640x480 with 1 Axes>"
      ]
     },
     "metadata": {},
     "output_type": "display_data"
    },
    {
     "name": "stdout",
     "output_type": "stream",
     "text": [
      "facial emotion: happy\n"
     ]
    }
   ],
   "source": [
    "print(x_training.shape)\n",
    "print(y_training.shape)\n",
    "\n",
    "print(x_testing.shape)\n",
    "print(y_testing.shape)\n",
    "\n",
    "sampleindex = np.random.randint(0,1000)\n",
    "sample = x_training[sampleindex, :]\n",
    "sample = sample.reshape(48, 48)\n",
    "\n",
    "plt.imshow(sample, cmap='gray')\n",
    "plt.show()\n",
    "print('facial emotion: %s' % get_emotion(y_training[sampleindex, :]))"
   ]
  },
  {
   "cell_type": "markdown",
   "metadata": {},
   "source": [
    "# Part I : Happy or Sad\n",
    "\n",
    "## For this part you will consider a binary classification problem - categorizing faces as happy or sad"
   ]
  },
  {
   "cell_type": "markdown",
   "metadata": {},
   "source": [
    "[1 Mark] a. Sample from the data loaded above to include only the happy or sad cases"
   ]
  },
  {
   "cell_type": "code",
   "execution_count": 9,
   "metadata": {
    "execution": {
     "iopub.execute_input": "2023-10-20T20:19:17.167071Z",
     "iopub.status.busy": "2023-10-20T20:19:17.166720Z",
     "iopub.status.idle": "2023-10-20T20:19:17.248072Z",
     "shell.execute_reply": "2023-10-20T20:19:17.247263Z",
     "shell.execute_reply.started": "2023-10-20T20:19:17.167040Z"
    }
   },
   "outputs": [],
   "source": [
    "happy_sad_training = trainingset[(trainingset[:,n_inputs + 3] == 1) | (trainingset[:,n_inputs + 4] == 1)]\n",
    "happy_sad_testing = testingset[(testingset[:,n_inputs + 3] == 1) | (testingset[:,n_inputs + 4] == 1)]\n",
    "\n",
    "x_happy_sad_training = happy_sad_training[:, 0:n_inputs]\n",
    "y_happy_sad_training = happy_sad_training[:, n_inputs:n_inputs + n_classes]\n",
    "\n",
    "x_happy_sad_testing = happy_sad_testing[:, 0:n_inputs]\n",
    "y_happy_sad_testing = happy_sad_testing[:, n_inputs:n_inputs + n_classes]\n"
   ]
  },
  {
   "cell_type": "code",
   "execution_count": 12,
   "metadata": {},
   "outputs": [
    {
     "name": "stdout",
     "output_type": "stream",
     "text": [
      "Length of Happy Sad Traning: 12045\n",
      "Length of Happy Sad Testing: 1548\n"
     ]
    }
   ],
   "source": [
    "print(\"Length of Happy Sad Traning:\", len(happy_sad_training))\n",
    "print(\"Length of Happy Sad Testing:\", len(happy_sad_testing))"
   ]
  },
  {
   "cell_type": "markdown",
   "metadata": {},
   "source": [
    "[4 Marks] b. Apply PCA and LDA to represent the faces, display a sample of a few faces for each case. You may consider using one or both of these in the steps that follow if they are of any value (this is for you to decide)."
   ]
  },
  {
   "cell_type": "code",
   "execution_count": 13,
   "metadata": {
    "execution": {
     "iopub.execute_input": "2023-10-20T20:19:30.550458Z",
     "iopub.status.busy": "2023-10-20T20:19:30.549740Z",
     "iopub.status.idle": "2023-10-20T20:19:34.597837Z",
     "shell.execute_reply": "2023-10-20T20:19:34.596502Z",
     "shell.execute_reply.started": "2023-10-20T20:19:30.550414Z"
    }
   },
   "outputs": [],
   "source": [
    "from sklearn.decomposition import PCA\n",
    "from sklearn.discriminant_analysis import LinearDiscriminantAnalysis as LDA\n",
    "\n",
    "# Applying PCA\n",
    "variance=0.9\n",
    "pca = PCA(variance)\n",
    "x_pca_training = pca.fit_transform(x_happy_sad_training)\n",
    "# Inverse transform to visualize\n",
    "sample_faces_pca = pca.inverse_transform(x_pca_training[:5]).reshape(-1, 48, 48)\n",
    "\n"
   ]
  },
  {
   "cell_type": "code",
   "execution_count": 14,
   "metadata": {},
   "outputs": [
    {
     "data": {
      "image/png": "[encoded data removed]",
      "text/plain": [
       "<Figure size 800x600 with 1 Axes>"
      ]
     },
     "metadata": {},
     "output_type": "display_data"
    }
   ],
   "source": [
    "cumulative_variance_ratio = np.cumsum(pca.explained_variance_ratio_)\n",
    "\n",
    "# Plot the cumulative variance ratio curve\n",
    "plt.figure(figsize=(8, 6))\n",
    "plt.plot(cumulative_variance_ratio, marker='o', linestyle='-', color='b')\n",
    "plt.xlabel('Number of Components')\n",
    "plt.ylabel('Cumulative Explained Variance')\n",
    "plt.title('Cumulative Variance Ratio Curve')\n",
    "plt.grid(True)\n",
    "plt.show()"
   ]
  },
  {
   "cell_type": "code",
   "execution_count": 15,
   "metadata": {
    "execution": {
     "iopub.execute_input": "2023-10-20T20:20:00.127239Z",
     "iopub.status.busy": "2023-10-20T20:20:00.126889Z",
     "iopub.status.idle": "2023-10-20T20:20:00.817386Z",
     "shell.execute_reply": "2023-10-20T20:20:00.816506Z",
     "shell.execute_reply.started": "2023-10-20T20:20:00.127211Z"
    }
   },
   "outputs": [
    {
     "data": {
      "image/png": "[encoded data removed]",
      "text/plain": [
       "<Figure size 2000x500 with 5 Axes>"
      ]
     },
     "metadata": {},
     "output_type": "display_data"
    }
   ],
   "source": [
    "plt.figure(figsize=(20, 5))\n",
    "# Displaying PCA faces\n",
    "for i, face in enumerate(sample_faces_pca):\n",
    "    plt.subplot(1, 5, i + 1)\n",
    "    \n",
    "    plt.imshow(face, cmap='gray')\n",
    "    emotion = get_emotion(y_happy_sad_testing[i])  # Change to use lda_predictions if needed\n",
    "    plt.title(f'Facial emotion: {emotion}')\n",
    "\n",
    "plt.axis(\"off\")\n",
    "plt.show()"
   ]
  },
  {
   "cell_type": "code",
   "execution_count": 13,
   "metadata": {
    "execution": {
     "iopub.execute_input": "2023-10-20T20:20:17.398559Z",
     "iopub.status.busy": "2023-10-20T20:20:17.398197Z",
     "iopub.status.idle": "2023-10-20T20:20:31.506073Z",
     "shell.execute_reply": "2023-10-20T20:20:31.504651Z",
     "shell.execute_reply.started": "2023-10-20T20:20:17.398528Z"
    }
   },
   "outputs": [],
   "source": [
    "# Applying LDA\n",
    "lda = LDA(n_components=1)\n",
    "x_lda_training = lda.fit_transform(x_happy_sad_training, np.argmax(y_happy_sad_training, axis=1))\n",
    "x_lda_testing = lda.transform(x_happy_sad_testing)\n"
   ]
  },
  {
   "cell_type": "markdown",
   "metadata": {},
   "source": [
    "[2 Marks] c. Apply naive Bayes to classify faces as happy or sad. Report your accuracy."
   ]
  },
  {
   "cell_type": "code",
   "execution_count": 14,
   "metadata": {
    "execution": {
     "iopub.execute_input": "2023-10-20T20:22:42.498679Z",
     "iopub.status.busy": "2023-10-20T20:22:42.497943Z",
     "iopub.status.idle": "2023-10-20T20:22:42.935728Z",
     "shell.execute_reply": "2023-10-20T20:22:42.934675Z",
     "shell.execute_reply.started": "2023-10-20T20:22:42.498643Z"
    }
   },
   "outputs": [
    {
     "name": "stdout",
     "output_type": "stream",
     "text": [
      "Naive Bayes Accuracy:  59.04392764857881\n"
     ]
    }
   ],
   "source": [
    "from sklearn.naive_bayes import GaussianNB\n",
    "from sklearn.metrics import accuracy_score\n",
    "\n",
    "nb_model = GaussianNB()\n",
    "nb_model.fit(x_happy_sad_training, np.argmax(y_happy_sad_training, axis=1))\n",
    "\n",
    "nb_predictions = nb_model.predict(x_happy_sad_testing)\n",
    "accuracy = accuracy_score(np.argmax(y_happy_sad_testing, axis=1), nb_predictions)\n",
    "print(\"Naive Bayes Accuracy: \", accuracy*100)\n"
   ]
  },
  {
   "cell_type": "markdown",
   "metadata": {},
   "source": [
    "[2 Marks] d. Apply Logistic regression to classify faces as happy or sad. Report the accuracy."
   ]
  },
  {
   "cell_type": "code",
   "execution_count": 15,
   "metadata": {
    "execution": {
     "iopub.execute_input": "2023-10-20T20:24:33.215026Z",
     "iopub.status.busy": "2023-10-20T20:24:33.214023Z",
     "iopub.status.idle": "2023-10-20T20:24:55.784516Z",
     "shell.execute_reply": "2023-10-20T20:24:55.783235Z",
     "shell.execute_reply.started": "2023-10-20T20:24:33.214989Z"
    }
   },
   "outputs": [
    {
     "name": "stdout",
     "output_type": "stream",
     "text": [
      "Logistic Regression Accuracy:  64.85788113695091\n"
     ]
    },
    {
     "name": "stderr",
     "output_type": "stream",
     "text": [
      "/Users/j/anaconda3/lib/python3.11/site-packages/sklearn/linear_model/_logistic.py:460: ConvergenceWarning: lbfgs failed to converge (status=1):\n",
      "STOP: TOTAL NO. of ITERATIONS REACHED LIMIT.\n",
      "\n",
      "Increase the number of iterations (max_iter) or scale the data as shown in:\n",
      "    https://scikit-learn.org/stable/modules/preprocessing.html\n",
      "Please also refer to the documentation for alternative solver options:\n",
      "    https://scikit-learn.org/stable/modules/linear_model.html#logistic-regression\n",
      "  n_iter_i = _check_optimize_result(\n"
     ]
    }
   ],
   "source": [
    "from sklearn.linear_model import LogisticRegression\n",
    "\n",
    "lr_model = LogisticRegression(max_iter=1000)\n",
    "lr_model.fit(x_happy_sad_training, np.argmax(y_happy_sad_training, axis=1))\n",
    "\n",
    "lr_predictions = lr_model.predict(x_happy_sad_testing)\n",
    "accuracy = accuracy_score(np.argmax(y_happy_sad_testing, axis=1), lr_predictions)\n",
    "print(\"Logistic Regression Accuracy: \", accuracy*100)\n"
   ]
  },
  {
   "cell_type": "markdown",
   "metadata": {},
   "source": [
    "[2 Marks] e. Apply a Support Vector Machine to classify the faces as happy or sad. Choose parameters / arguments to try to maximize your accuracy. Report the accuracy."
   ]
  },
  {
   "cell_type": "code",
   "execution_count": null,
   "metadata": {
    "execution": {
     "iopub.execute_input": "2023-10-20T18:25:27.140422Z",
     "iopub.status.busy": "2023-10-20T18:25:27.139673Z",
     "iopub.status.idle": "2023-10-20T18:29:00.841460Z",
     "shell.execute_reply": "2023-10-20T18:29:00.840481Z",
     "shell.execute_reply.started": "2023-10-20T18:25:27.140374Z"
    }
   },
   "outputs": [],
   "source": [
    "from sklearn.svm import SVC\n",
    "\n",
    "svm_model = SVC()\n",
    "svm_model.fit(x_happy_sad_training, np.argmax(y_happy_sad_training, axis=1))\n",
    "\n",
    "svm_predictions = svm_model.predict(x_happy_sad_testing)\n",
    "accuracy = accuracy_score(np.argmax(y_happy_sad_testing, axis=1), svm_predictions)\n",
    "print(\"SVM Accuracy: \", accuracy*100)\n"
   ]
  },
  {
   "cell_type": "markdown",
   "metadata": {},
   "source": [
    "[1 Mark] f. Which of the approaches above allow you to reliably determine the degree of happiness or sadness (i.e. how happy or how sad)? Which do you trust the most?"
   ]
  },
  {
   "cell_type": "markdown",
   "metadata": {},
   "source": [
    "Determining the intensity or degree of emotions like happiness or sadness is better approached with models designed for regression tasks or specialized emotion detection algorithms, rather than standard classification models. These alternatives can yield continuous outputs that quantify the intensity of an emotion, offering a more nuanced understanding than categorical labels.\n",
    "\n",
    "In this context, Logistic Regression can be a favorable option. Although it is fundamentally a classification model, it estimates probabilities that can be interpreted continuously, owing to its regression underpinnings. This can provide insights into the degree of an emotion experienced, aligning with the objective of measuring emotional intensities."
   ]
  },
  {
   "cell_type": "markdown",
   "metadata": {},
   "source": [
    "[2 Marks] g. Based on your answer to f. show the 5 happiest faces and the 5 saddest faces."
   ]
  },
  {
   "cell_type": "code",
   "execution_count": null,
   "metadata": {
    "execution": {
     "iopub.execute_input": "2023-10-20T20:51:59.908822Z",
     "iopub.status.busy": "2023-10-20T20:51:59.908485Z",
     "iopub.status.idle": "2023-10-20T20:52:31.628125Z",
     "shell.execute_reply": "2023-10-20T20:52:31.627345Z",
     "shell.execute_reply.started": "2023-10-20T20:51:59.908796Z"
    }
   },
   "outputs": [],
   "source": [
    "probabilities = svm_model.decision_function(x_happy_sad_testing)\n",
    "sorted_indices = np.argsort(probabilities)\n",
    "sad_faces = x_happy_sad_testing[sorted_indices[-5:]].reshape(-1, 48, 48)\n",
    "happy_faces = x_happy_sad_testing[sorted_indices[:5]].reshape(-1, 48, 48)"
   ]
  },
  {
   "cell_type": "code",
   "execution_count": null,
   "metadata": {
    "execution": {
     "iopub.execute_input": "2023-10-20T21:57:46.975175Z",
     "iopub.status.busy": "2023-10-20T21:57:46.974804Z",
     "iopub.status.idle": "2023-10-20T21:57:47.177645Z",
     "shell.execute_reply": "2023-10-20T21:57:47.176114Z",
     "shell.execute_reply.started": "2023-10-20T21:57:46.975142Z"
    }
   },
   "outputs": [],
   "source": [
    "print(\"Happy Emotions\")\n",
    "for i, face in enumerate(happy_faces):\n",
    "    plt.subplot(2, 5, i + 6)\n",
    "    plt.imshow(face, cmap='gray')\n",
    "    plt.axis(\"off\")\n",
    "plt.show()"
   ]
  },
  {
   "cell_type": "code",
   "execution_count": null,
   "metadata": {
    "execution": {
     "iopub.execute_input": "2023-10-20T21:57:22.218748Z",
     "iopub.status.busy": "2023-10-20T21:57:22.217961Z",
     "iopub.status.idle": "2023-10-20T21:57:22.849757Z",
     "shell.execute_reply": "2023-10-20T21:57:22.848265Z",
     "shell.execute_reply.started": "2023-10-20T21:57:22.218704Z"
    }
   },
   "outputs": [],
   "source": [
    "print(\"Sad Emotions:\")\n",
    "for i, face in enumerate(sad_faces):\n",
    "    plt.subplot(2, 5, i + 6)\n",
    "    plt.imshow(face, cmap='gray')\n",
    "    plt.axis(\"off\")\n",
    "\n",
    "plt.show()"
   ]
  },
  {
   "cell_type": "markdown",
   "metadata": {},
   "source": [
    "# Part II : Multi-class"
   ]
  },
  {
   "cell_type": "markdown",
   "metadata": {},
   "source": [
    "## For this part you will repeat the tasks in Part I, but instead consider the multi-class problem and classify inputs according to all 7 classes. "
   ]
  },
  {
   "cell_type": "markdown",
   "metadata": {},
   "source": [
    "[4 Marks] a. Apply PCA and LDA to represent the faces, display a sample of a few faces for each case. Produce a plot for PCA showing the cumulative variance captured by adding additional principal components (e.g. 1st PC, 1st + 2nd PC, etc.). On the same figure, plot the same curve for only happy and sad faces used in part 1."
   ]
  },
  {
   "cell_type": "code",
   "execution_count": 20,
   "metadata": {
    "execution": {
     "iopub.execute_input": "2023-10-20T20:53:48.135838Z",
     "iopub.status.busy": "2023-10-20T20:53:48.135152Z",
     "iopub.status.idle": "2023-10-20T20:54:19.237080Z",
     "shell.execute_reply": "2023-10-20T20:54:19.236102Z",
     "shell.execute_reply.started": "2023-10-20T20:53:48.135799Z"
    }
   },
   "outputs": [],
   "source": [
    "# Flattening the images to make them 2D\n",
    "x_training_flat = x_training.reshape(x_training.shape[0], -1)\n",
    "x_testing_flat = x_testing.reshape(x_testing.shape[0], -1)\n",
    "\n",
    "# Applying PCA\n",
    "desired_variance=0.9\n",
    "pca = PCA(desired_variance)\n",
    "x_pca_training = pca.fit_transform(x_training_flat)\n",
    "cumulative_variance = np.cumsum(pca.explained_variance_ratio_)\n",
    "\n",
    "# Applying PCA for only happy and sad faces\n",
    "x_happy_sad_training_flat = x_happy_sad_training.reshape(x_happy_sad_training.shape[0], -1)\n",
    "pca_hs = PCA(n_components=100) #As we got 100 number of components from happy and sad emotions which define 90% variance\n",
    "x_pca_hs = pca_hs.fit_transform(x_happy_sad_training_flat)\n",
    "cumulative_variance_hs = np.cumsum(pca_hs.explained_variance_ratio_)"
   ]
  },
  {
   "cell_type": "code",
   "execution_count": 21,
   "metadata": {
    "execution": {
     "iopub.execute_input": "2023-10-20T20:54:19.487538Z",
     "iopub.status.busy": "2023-10-20T20:54:19.486699Z",
     "iopub.status.idle": "2023-10-20T20:54:19.822574Z",
     "shell.execute_reply": "2023-10-20T20:54:19.821614Z",
     "shell.execute_reply.started": "2023-10-20T20:54:19.487501Z"
    }
   },
   "outputs": [
    {
     "data": {
      "image/png": "[encoded data removed]",
      "text/plain": [
       "<Figure size 1000x500 with 1 Axes>"
      ]
     },
     "metadata": {},
     "output_type": "display_data"
    }
   ],
   "source": [
    "plt.figure(figsize=(10,5))\n",
    "plt.plot(cumulative_variance, label='All Emotions')\n",
    "plt.plot(cumulative_variance_hs, label='Happy and Sad Only')\n",
    "plt.xlabel('Number of Principal Components')\n",
    "plt.ylabel('Cumulative Explained Variance')\n",
    "plt.title('Cumulative Explained Variance vs Number of Principal Components')\n",
    "plt.legend()\n",
    "plt.grid(True)\n",
    "plt.show()\n"
   ]
  },
  {
   "cell_type": "code",
   "execution_count": null,
   "metadata": {
    "execution": {
     "iopub.execute_input": "2023-10-20T20:57:31.726376Z",
     "iopub.status.busy": "2023-10-20T20:57:31.725988Z",
     "iopub.status.idle": "2023-10-20T20:57:59.375730Z",
     "shell.execute_reply": "2023-10-20T20:57:59.373712Z",
     "shell.execute_reply.started": "2023-10-20T20:57:31.726345Z"
    }
   },
   "outputs": [],
   "source": [
    "# Flattening the images to make them 2D\n",
    "x_training_flat = x_training.reshape(x_training.shape[0], -1)\n",
    "\n",
    "# Applying LDA for multi-class\n",
    "lda = LDA()\n",
    "x_lda_multi = lda.fit_transform(x_training_flat, np.argmax(y_training, axis=1))"
   ]
  },
  {
   "cell_type": "markdown",
   "metadata": {},
   "source": [
    "[2 Marks] b. Classify the faces using Naive Bayes and report your accuracy."
   ]
  },
  {
   "cell_type": "code",
   "execution_count": null,
   "metadata": {
    "execution": {
     "iopub.execute_input": "2023-10-20T20:57:59.379131Z",
     "iopub.status.busy": "2023-10-20T20:57:59.378400Z",
     "iopub.status.idle": "2023-10-20T20:58:00.810062Z",
     "shell.execute_reply": "2023-10-20T20:58:00.809036Z",
     "shell.execute_reply.started": "2023-10-20T20:57:59.379076Z"
    }
   },
   "outputs": [],
   "source": [
    "x_training_flat = x_training.reshape(x_training.shape[0], -1)\n",
    "x_testing_flat = x_testing.reshape(x_testing.shape[0], -1)\n",
    "\n",
    "\n",
    "nb_model_multi = GaussianNB()\n",
    "nb_model_multi.fit(x_training_flat, np.argmax(y_training, axis=1))\n",
    "nb_predictions_multi = nb_model_multi.predict(x_testing_flat)\n",
    "\n",
    "accuracy = accuracy_score(np.argmax(y_testing, axis=1), nb_predictions_multi)\n",
    "print(\"Naive Bayes Accuracy: \", accuracy)\n"
   ]
  },
  {
   "cell_type": "markdown",
   "metadata": {},
   "source": [
    "Visualize the results of your classifier on the test set using a confusion matrix. Describe briefly how the multi-class nature of the problem is treated by the classifier.\n",
    "DESCRIBE BRIEFLY HERE"
   ]
  },
  {
   "cell_type": "code",
   "execution_count": null,
   "metadata": {
    "execution": {
     "iopub.execute_input": "2023-10-20T20:58:00.811473Z",
     "iopub.status.busy": "2023-10-20T20:58:00.811170Z",
     "iopub.status.idle": "2023-10-20T20:58:01.154758Z",
     "shell.execute_reply": "2023-10-20T20:58:01.153832Z",
     "shell.execute_reply.started": "2023-10-20T20:58:00.811446Z"
    }
   },
   "outputs": [],
   "source": [
    "class_names = [\"Angry\", \"Disgust\", \"Fear\", \"Happy\", \"Sad\", \"Surprise\", \"Neutral\"] \n",
    "\n",
    "cm = confusion_matrix(np.argmax(y_testing, axis=1), nb_predictions_multi)\n",
    "plt.figure(figsize=(8,6))\n",
    "sns.heatmap(cm, annot=True, fmt='g',xticklabels=class_names, yticklabels=class_names)\n",
    "plt.xlabel('Predicted')\n",
    "plt.ylabel('True')\n",
    "plt.show()\n"
   ]
  },
  {
   "cell_type": "markdown",
   "metadata": {},
   "source": [
    "In the context of facial emotion recognition, each emotion or class is considered individually against the input features to estimate the probability that the given face belongs to that class. These probabilities are then compared, and the emotion corresponding to the highest probability is predicted as the output. This process is inherently suited for multi-class classification and does not require the transformation of the problem into binary classifications. Each class's probabilities are evaluated in a single pass, making Naive Bayes efficient and straightforward for such tasks.\n",
    "\n",
    "The model demonstrated a commendable performance in accurately classifying emotions categorized as \"Sad\" and \"Surprise.\" This proficiency is indicative of the model's ability to adeptly identify and learn the distinct features characterizing these specific emotions. In contrast, a notable challenge was encountered in the accurate classification of the \"Angry\" and \"Disgust\" emotions. The model manifested a diminished performance in these categories, underscoring a potential area for enhancement."
   ]
  },
  {
   "cell_type": "markdown",
   "metadata": {},
   "source": [
    "[2 Marks] c. Classify the faces using logistic regression and report your accuracy."
   ]
  },
  {
   "cell_type": "code",
   "execution_count": null,
   "metadata": {
    "execution": {
     "iopub.execute_input": "2023-10-20T21:02:36.759108Z",
     "iopub.status.busy": "2023-10-20T21:02:36.758769Z",
     "iopub.status.idle": "2023-10-20T21:06:58.699000Z",
     "shell.execute_reply": "2023-10-20T21:06:58.697789Z",
     "shell.execute_reply.started": "2023-10-20T21:02:36.759082Z"
    }
   },
   "outputs": [],
   "source": [
    "\n",
    "# Creating and training the logistic regression model\n",
    "lr_model_multi = LogisticRegression(max_iter=1000)\n",
    "lr_model_multi.fit(x_training_flat, np.argmax(y_training, axis=1))\n",
    "\n",
    "# Predicting and calculating accuracy\n",
    "lr_predictions_multi = lr_model_multi.predict(x_testing_flat)\n",
    "accuracy = accuracy_score(np.argmax(y_testing, axis=1), lr_predictions_multi)\n",
    "print(\"Logistic Regression Accuracy: \", accuracy)\n",
    "\n"
   ]
  },
  {
   "cell_type": "markdown",
   "metadata": {},
   "source": [
    "Visualize the results of your classifier on the test set using a confusion matrix. Describe briefly how the multi-class nature of the problem is treated by the classifier.\n",
    "DESCRIBE BRIEFLY HERE"
   ]
  },
  {
   "cell_type": "code",
   "execution_count": null,
   "metadata": {
    "execution": {
     "iopub.execute_input": "2023-10-20T21:06:58.703888Z",
     "iopub.status.busy": "2023-10-20T21:06:58.702351Z",
     "iopub.status.idle": "2023-10-20T21:06:59.194149Z",
     "shell.execute_reply": "2023-10-20T21:06:59.193089Z",
     "shell.execute_reply.started": "2023-10-20T21:06:58.703847Z"
    }
   },
   "outputs": [],
   "source": [
    "# Creating and visualizing the confusion matrix\n",
    "cm = confusion_matrix(np.argmax(y_testing, axis=1), lr_predictions_multi)\n",
    "plt.figure(figsize=(8,6))\n",
    "sns.heatmap(cm, annot=True, fmt='g', xticklabels=class_names, yticklabels=class_names)\n",
    "plt.xlabel('Predicted')\n",
    "plt.ylabel('True')\n",
    "plt.show()\n"
   ]
  },
  {
   "cell_type": "markdown",
   "metadata": {},
   "source": [
    "The model appears to be particularly adept at identifying \"Happy\" facial expressions, which could be attributed to distinct and recognizable features associated with happiness, such as smiles and the positioning of facial muscles. In contrast, other emotions, such as \"Sad,\" \"Angry,\" or \"Surprised,\" were not as effectively classified. This discrepancy in classification performance can result from various factors, including the complexity of facial features associated with different emotions and the quality and diversity of the training data"
   ]
  },
  {
   "cell_type": "markdown",
   "metadata": {},
   "source": [
    "[2 Marks] d. Classify the faces using a support vector machine and report your accuracy."
   ]
  },
  {
   "cell_type": "code",
   "execution_count": null,
   "metadata": {
    "execution": {
     "iopub.execute_input": "2023-10-20T18:46:43.727158Z",
     "iopub.status.busy": "2023-10-20T18:46:43.726340Z",
     "iopub.status.idle": "2023-10-20T19:19:13.114421Z",
     "shell.execute_reply": "2023-10-20T19:19:13.113477Z",
     "shell.execute_reply.started": "2023-10-20T18:46:43.727124Z"
    }
   },
   "outputs": [],
   "source": [
    "# Creating and training the SVM model\n",
    "svm_model_multi = SVC()\n",
    "svm_model_multi.fit(x_training_flat, np.argmax(y_training, axis=1))\n",
    "\n",
    "# Predicting and calculating accuracy\n",
    "svm_predictions_multi = svm_model_multi.predict(x_testing_flat)\n",
    "accuracy = accuracy_score(np.argmax(y_testing, axis=1), svm_predictions_multi)\n",
    "print(\"SVM Accuracy: \", accuracy)\n",
    "\n"
   ]
  },
  {
   "cell_type": "markdown",
   "metadata": {},
   "source": [
    "Visualize the results of your classifier on the test set using a confusion matrix. Describe briefly how the multi-class nature of the problem is treated by the classifier.\n",
    "DESCRIBE BRIEFLY HERE"
   ]
  },
  {
   "cell_type": "code",
   "execution_count": null,
   "metadata": {
    "execution": {
     "iopub.execute_input": "2023-10-20T21:07:10.752289Z",
     "iopub.status.busy": "2023-10-20T21:07:10.751456Z",
     "iopub.status.idle": "2023-10-20T21:07:11.155753Z",
     "shell.execute_reply": "2023-10-20T21:07:11.154846Z",
     "shell.execute_reply.started": "2023-10-20T21:07:10.752252Z"
    }
   },
   "outputs": [],
   "source": [
    "# Confusion Matrix\n",
    "cm = confusion_matrix(np.argmax(y_testing, axis=1), svm_predictions_multi)\n",
    "plt.figure(figsize=(8,6))\n",
    "sns.heatmap(cm, annot=True, fmt='g',xticklabels=class_names, yticklabels=class_names)\n",
    "plt.xlabel('Predicted')\n",
    "plt.ylabel('True')\n",
    "plt.show()\n"
   ]
  },
  {
   "cell_type": "markdown",
   "metadata": {},
   "source": [
    "The SVM model has achieved an accuracy of approximately 44.66%, which indicates a moderate level of effectiveness in classifying facial expressions into respective emotion categories. The higher count of true positives for \"Happy\" indicates that the model is particularly attuned to features and patterns associated with this emotion. This could potentially be attributed to a well-represented training dataset for \"Happy\" emotions or distinctive features that make this class easier to identify. However, for other emotions, the model has demonstrated a more modest performance. This could be due to overlapping features between different emotions, or insufficient or unrepresentative training data for those specific classes."
   ]
  },
  {
   "cell_type": "markdown",
   "metadata": {},
   "source": [
    "[2 Marks] e. Which categories of faces seem to be most similar or least similar?\n",
    "EXPLAIN HERE"
   ]
  },
  {
   "cell_type": "markdown",
   "metadata": {},
   "source": [
    "Based on the confusion matrix, it is clearly observed that emotions like \"Fear\" and \"Surpirse\" are most similar whereas emotions like \"Happy\" and \"Angry\" are least similar"
   ]
  },
  {
   "cell_type": "markdown",
   "metadata": {},
   "source": [
    "[4 Marks] f. Let's assume that some of the faces were labeled wrong in producing the dataset. Propose and implement a solution that identifies images that are potentially mislabeled. Show 10 samples based on the method you choose."
   ]
  },
  {
   "cell_type": "code",
   "execution_count": null,
   "metadata": {
    "execution": {
     "iopub.execute_input": "2023-10-20T21:22:59.400844Z",
     "iopub.status.busy": "2023-10-20T21:22:59.399792Z",
     "iopub.status.idle": "2023-10-20T21:26:53.375299Z",
     "shell.execute_reply": "2023-10-20T21:26:53.374484Z",
     "shell.execute_reply.started": "2023-10-20T21:22:59.400807Z"
    }
   },
   "outputs": [],
   "source": [
    "probabilities = svm_model_multi.decision_function(x_testing_flat)\n",
    "\n",
    "# Get predicted labels\n",
    "predicted_labels = np.argmax(probabilities, axis=1)\n",
    "true_labels = np.argmax(y_testing, axis=1)\n",
    "\n",
    "# Define a threshold\n",
    "threshold = 0.5  # Adjust this value based on your specific case\n",
    "\n",
    "# Get indices of potentially mislabeled samples\n",
    "mislabeled_indices = np.where((predicted_labels != true_labels) & \n",
    "                              (np.max(probabilities, axis=1) > threshold))[0]\n",
    "\n",
    "\n",
    "\n",
    "\n"
   ]
  },
  {
   "cell_type": "code",
   "execution_count": null,
   "metadata": {
    "execution": {
     "iopub.execute_input": "2023-10-20T21:26:53.377265Z",
     "iopub.status.busy": "2023-10-20T21:26:53.376959Z",
     "iopub.status.idle": "2023-10-20T21:26:54.356511Z",
     "shell.execute_reply": "2023-10-20T21:26:54.355594Z",
     "shell.execute_reply.started": "2023-10-20T21:26:53.377240Z"
    }
   },
   "outputs": [],
   "source": [
    "# Display potentially mislabeled images\n",
    "plt.figure(figsize=(10, 5))  # Adjust the figure size\n",
    "for i, index in enumerate(mislabeled_indices[:10]):  # Show up to 10 samples\n",
    "    plt.subplot(2, 5, i + 1)\n",
    "    plt.imshow(x_testing_flat[index].reshape(48, 48), cmap='gray')  # Ensure images are reshaped back to 48x48\n",
    "    predicted_class = class_names[predicted_labels[index]]\n",
    "    true_class = class_names[true_labels[index]]\n",
    "    plt.title(f'Pred: {predicted_class}, True: {true_class}', fontsize=7)\n",
    "    plt.axis('off')  \n",
    "plt.show()\n"
   ]
  },
  {
   "cell_type": "markdown",
   "metadata": {},
   "source": [
    "# Optional"
   ]
  },
  {
   "cell_type": "markdown",
   "metadata": {},
   "source": [
    "From all the classification approaches considered above, choose one to score faces based on a continuous valued prediction of for each of the categories."
   ]
  },
  {
   "cell_type": "markdown",
   "metadata": {},
   "source": [
    "[No Marks] a. Produce a prediction for each face in the test set (this has 7 dimensions). Visualize these based on a 2D embedding of the scores. The \"data points\" plotted in the embedding should show the actual picture of the face, at the corresponding 2D point location. (You could consider using t-SNE for your embedding)"
   ]
  },
  {
   "cell_type": "code",
   "execution_count": null,
   "metadata": {
    "execution": {
     "iopub.execute_input": "2023-10-20T21:49:27.742099Z",
     "iopub.status.busy": "2023-10-20T21:49:27.741187Z",
     "iopub.status.idle": "2023-10-20T21:54:00.973347Z",
     "shell.execute_reply": "2023-10-20T21:54:00.972415Z",
     "shell.execute_reply.started": "2023-10-20T21:49:27.742062Z"
    }
   },
   "outputs": [],
   "source": [
    "from matplotlib.offsetbox import OffsetImage, AnnotationBbox  # Added this import statement\n",
    "from sklearn.manifold import TSNE\n",
    "\n",
    "# Use decision function values as features\n",
    "features = svm_model_multi.decision_function(x_testing_flat)\n",
    "\n",
    "# Apply t-SNE\n",
    "tsne = TSNE(n_components=2)\n",
    "embedded_features = tsne.fit_transform(features)\n",
    "\n",
    "# Plot the embedded features, with images on them\n",
    "fig, ax = plt.subplots(figsize=(10, 8))\n",
    "\n",
    "# Just a small function to plot images on the points\n",
    "def plot_image_on_point(x, y, image, ax):\n",
    "    im = OffsetImage(image, zoom=0.5, cmap='gray')\n",
    "    ab = AnnotationBbox(im, (x, y), xycoords='data', frameon=False)\n",
    "    ax.add_artist(ab)\n",
    "\n",
    "for (x, y), image in zip(embedded_features, x_testing_flat):  # Changed x_testing to x_testing_flat and reshaped below\n",
    "    plot_image_on_point(x, y, image.reshape(48, 48), ax)  # Added reshape to convert the flattened image back to 2D\n",
    "\n",
    "ax.update_datalim(embedded_features)\n",
    "ax.autoscale()\n",
    "plt.show()\n",
    "\n"
   ]
  },
  {
   "cell_type": "code",
   "execution_count": null,
   "metadata": {},
   "outputs": [],
   "source": []
  }
 ],
 "metadata": {
  "anaconda-cloud": {},
  "kernelspec": {
   "display_name": "Python 3 (ipykernel)",
   "language": "python",
   "name": "python3"
  },
  "language_info": {
   "codemirror_mode": {
    "name": "ipython",
    "version": 3
   },
   "file_extension": ".py",
   "mimetype": "text/x-python",
   "name": "python",
   "nbconvert_exporter": "python",
   "pygments_lexer": "ipython3",
   "version": "3.11.4"
  }
 },
 "nbformat": 4,
 "nbformat_minor": 4
}
